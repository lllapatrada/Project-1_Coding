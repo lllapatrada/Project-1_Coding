{
  "nbformat": 4,
  "nbformat_minor": 0,
  "metadata": {
    "colab": {
      "provenance": [],
      "authorship_tag": "ABX9TyOaRWaEbVckHb7GgpI5kuQw",
      "include_colab_link": true
    },
    "kernelspec": {
      "name": "python3",
      "display_name": "Python 3"
    },
    "language_info": {
      "name": "python"
    }
  },
  "cells": [
    {
      "cell_type": "markdown",
      "metadata": {
        "id": "view-in-github",
        "colab_type": "text"
      },
      "source": [
        "<a href=\"https://colab.research.google.com/github/lllapatrada/Project-1_Coding/blob/main/August38.ipynb\" target=\"_parent\"><img src=\"https://colab.research.google.com/assets/colab-badge.svg\" alt=\"Open In Colab\"/></a>"
      ]
    },
    {
      "cell_type": "code",
      "execution_count": null,
      "metadata": {
        "colab": {
          "base_uri": "https://localhost:8080/"
        },
        "id": "lofvqbq79RKf",
        "outputId": "b7c33831-9c17-42aa-bc2d-37e894c3a13d"
      },
      "outputs": [
        {
          "output_type": "stream",
          "name": "stdout",
          "text": [
            "สวัสดีคับ กัสเองค๊าบ\n"
          ]
        }
      ],
      "source": [
        "\n",
        "print('สวัสดีคับ กัสเองค๊าบ')"
      ]
    },
    {
      "cell_type": "code",
      "source": [],
      "metadata": {
        "id": "zES8qaVPRhK3"
      },
      "execution_count": null,
      "outputs": []
    },
    {
      "cell_type": "code",
      "source": [
        "print(\"สวัสดีคับ กัสเองค๊าบ\")"
      ],
      "metadata": {
        "colab": {
          "base_uri": "https://localhost:8080/"
        },
        "id": "MgqQ0sRfAvRm",
        "outputId": "2c55e8e1-80ef-4487-c7b1-bfbed057d9d5"
      },
      "execution_count": null,
      "outputs": [
        {
          "output_type": "stream",
          "name": "stdout",
          "text": [
            "สวัสดีคับ กัสเองค๊าบ\n"
          ]
        }
      ]
    },
    {
      "cell_type": "code",
      "source": [
        "print(5+5)"
      ],
      "metadata": {
        "colab": {
          "base_uri": "https://localhost:8080/"
        },
        "id": "p7Xf5lVxELl-",
        "outputId": "ebc80d4c-c628-42cb-a5f7-5b95f7dcef32"
      },
      "execution_count": null,
      "outputs": [
        {
          "output_type": "stream",
          "name": "stdout",
          "text": [
            "10\n"
          ]
        }
      ]
    },
    {
      "cell_type": "code",
      "source": [
        "a=3.5\n",
        "print(\"เขามีเงินเยอะกว่าฉัน \", a, \" บาท\")"
      ],
      "metadata": {
        "colab": {
          "base_uri": "https://localhost:8080/"
        },
        "id": "6gfOR5VcFlxd",
        "outputId": "e1e522a8-2c83-444e-9ccb-d78106c85434"
      },
      "execution_count": null,
      "outputs": [
        {
          "output_type": "stream",
          "name": "stdout",
          "text": [
            "เขามีเงินเยอะกว่าฉัน  3.5  บาท\n"
          ]
        }
      ]
    },
    {
      "cell_type": "markdown",
      "source": [
        "29/05/67\n",
        "ตัวอักษรที่ใช้ในการเขียนโค้ดจะต้องเป็นภาษาอังกฤษเเละต้องเป็นตัวพิมพ์เล็ก คำสั่ง type คือคำสั่งเเยกประเภท"
      ],
      "metadata": {
        "id": "p4aXh3Rnh60u"
      }
    },
    {
      "cell_type": "code",
      "source": [
        "a = 2\n",
        "b = 1.5\n",
        "c = \"M.4/4\"\n",
        "\n",
        "type(c)\n",
        "\n",
        "print(\"ตัวเเปรที่ฉันคิด คือ ace\")\n"
      ],
      "metadata": {
        "colab": {
          "base_uri": "https://localhost:8080/"
        },
        "id": "0uemt6CHZmyN",
        "outputId": "77662bde-2d50-4c3e-b49d-c2f3f9204d95"
      },
      "execution_count": null,
      "outputs": [
        {
          "output_type": "stream",
          "name": "stdout",
          "text": [
            "ตัวเเปรที่ฉันคิด คือ ace\n"
          ]
        }
      ]
    },
    {
      "cell_type": "code",
      "source": [
        "numeric1 = 5\n",
        "type(numeric1)\n",
        "print(\"ตัวเเปร numeric1 คือ\" , numeric1)"
      ],
      "metadata": {
        "colab": {
          "base_uri": "https://localhost:8080/"
        },
        "id": "ho8OfsQ1kQ-u",
        "outputId": "78e3ec7a-e299-48c9-89bd-c0df8c26c6fa"
      },
      "execution_count": null,
      "outputs": [
        {
          "output_type": "stream",
          "name": "stdout",
          "text": [
            "ตัวเเปร numeric1 คือ 5\n"
          ]
        }
      ]
    },
    {
      "cell_type": "markdown",
      "source": [
        "05/06/2567"
      ],
      "metadata": {
        "id": "QxTOYYDCYLvK"
      }
    },
    {
      "cell_type": "code",
      "source": [
        "string1='Pyton'\n",
        "print(string1[1])"
      ],
      "metadata": {
        "colab": {
          "base_uri": "https://localhost:8080/"
        },
        "id": "KAa4_2PtYNvy",
        "outputId": "66c93d22-a4f4-45e2-aeb8-60cc68494b30"
      },
      "execution_count": null,
      "outputs": [
        {
          "output_type": "stream",
          "name": "stdout",
          "text": [
            "y\n"
          ]
        }
      ]
    },
    {
      "cell_type": "markdown",
      "source": [
        "index คือ ตัวที่จัดรำดับของข้อมูลcomplex คือ จำนวนเชิงซ้อน เช่นสมการ\n",
        "bool คือ จำนวนเท็ทหรือจริง\n",
        "\n",
        "ความสัมพันธ์ของคอมพิวเตอร์กับการเขียนโปรเเกรม\n",
        "input = print\n",
        "process= การรันโค้ด\n",
        "output =การเเสดงผล"
      ],
      "metadata": {
        "id": "0o8CdruEb48y"
      }
    },
    {
      "cell_type": "markdown",
      "source": [
        "26/06/2567"
      ],
      "metadata": {
        "id": "AKTULxLtuYNw"
      }
    },
    {
      "cell_type": "code",
      "source": [
        "name= input(\"โปรดใส่ชื่อของคุณ เพื่อเกรด4\")\n",
        "print(\"ยินดีที่ได้รู้จักนะ\",name)"
      ],
      "metadata": {
        "colab": {
          "base_uri": "https://localhost:8080/"
        },
        "id": "UdXhiJB-v0h7",
        "outputId": "c06f64cf-9668-4626-c6da-3bd67816b320"
      },
      "execution_count": null,
      "outputs": [
        {
          "output_type": "stream",
          "name": "stdout",
          "text": [
            "โปรดใส่ชื่อของคุณ เพื่อเกรด4 ออกัส\n",
            "ยินดีที่ได้รู้จักนะ  ออกัส\n"
          ]
        }
      ]
    },
    {
      "cell_type": "code",
      "source": [
        "side = int(input(\"ความยาวด้าน (ซม.) คือ\"))\n",
        "area = side*side\n",
        "print(\"พื้นที่สี่เหลี่ยม เท่ากับ\", area,\"ตร.ซม.\")"
      ],
      "metadata": {
        "colab": {
          "base_uri": "https://localhost:8080/"
        },
        "id": "XvPeZRx5y4EC",
        "outputId": "c0d71ac9-d381-4478-f0cb-a0110688b386"
      },
      "execution_count": null,
      "outputs": [
        {
          "output_type": "stream",
          "name": "stdout",
          "text": [
            "ความยาวด้าน (ซม.) คือ5\n",
            "พื้นที่สี่เหลี่ยม เท่ากับ 25 ตร.ซม.\n"
          ]
        }
      ]
    },
    {
      "cell_type": "markdown",
      "source": [
        "1/07/2567"
      ],
      "metadata": {
        "id": "A1vpQw4qOT8w"
      }
    },
    {
      "cell_type": "code",
      "source": [
        "side=int(input(\"ความกว้าง(ซม.) คือ\"))\n",
        "long=int(input(\"ความยาว(ซฒ.) คือ \"))\n",
        "area = side*long\n",
        "print(\"พื้นที่สี่เหลี่ยม เท่ากับ\" , area,\"ตร.ซม.\")"
      ],
      "metadata": {
        "colab": {
          "base_uri": "https://localhost:8080/"
        },
        "id": "arXtzgE4OW_-",
        "outputId": "4c7faa28-9aad-4ac9-fe7e-3f30dc55edd5"
      },
      "execution_count": null,
      "outputs": [
        {
          "output_type": "stream",
          "name": "stdout",
          "text": [
            "ความกว้าง(ซม.) คือ2\n",
            "ความยาว(ซฒ.) คือ 4\n",
            "พื้นที่สี่เหลี่ยม เท่ากับ 8 ตร.ซม.\n"
          ]
        }
      ]
    },
    {
      "cell_type": "code",
      "source": [
        "s= int(input(\"ระยะทาง(ม.) คือ \"))\n",
        "t = int(input(\"เวลา (วินาที) คือ\" ))\n",
        "V = s/t\n",
        "print(\"อัตราเร็ว เท่ากับ\" , V , \" เมตร/วินาที\")"
      ],
      "metadata": {
        "colab": {
          "base_uri": "https://localhost:8080/"
        },
        "id": "KgCnQ1sWSCwB",
        "outputId": "5bb13c28-e260-4be2-dac6-5a8e826960bb"
      },
      "execution_count": null,
      "outputs": [
        {
          "output_type": "stream",
          "name": "stdout",
          "text": [
            "ระยะทาง(ม.) คือ 20\n",
            "เวลา (วินาที) คือ10\n",
            "อัตราเร็ว เท่ากับ 2.0  เมตร/วินาที\n"
          ]
        }
      ]
    },
    {
      "cell_type": "code",
      "source": [
        "print(\"นี้คือห้องตรวจสุขภาพการคำนวณ BMI :-) \")\n",
        "print(\"จัดทำโดยเด็กกัส\")\n",
        "name=str(input(\"กรุณาใส่ชื่อของคนน่ารัก\"))\n",
        "print(\"ยินดีต้อนรับสู่ห้องตรวจสุขภาพนะคนน่ารักของโลก💖💕\")\n",
        "weigh=float(input(\"น้ำหนัก(กิโลกรัม) คือ\" ))\n",
        "height= float(input(\"ส่วนสูง(เมตร) คือ \"))\n",
        "BMI = weigh/height**2\n",
        "print(\"ดัชนีมวลกาย เท่ากับ\" ,BMI,\"กิโลกรัม/เมตร\")"
      ],
      "metadata": {
        "colab": {
          "base_uri": "https://localhost:8080/"
        },
        "id": "g_b1Sr4gXfMt",
        "outputId": "a21cd5da-e1b1-467d-9375-17e0e7455ebd"
      },
      "execution_count": null,
      "outputs": [
        {
          "output_type": "stream",
          "name": "stdout",
          "text": [
            "นี้คือห้องตรวจสุขภาพการคำนวณ BMI :-) \n",
            "จัดทำโดยเด็กกัส\n",
            "กรุณาใส่ชื่อของคนน่ารักกัสกาสส\n",
            "ยินดีต้อนรับสู่ห้องตรวจสุขภาพนะคนน่ารักของโลก💖💕\n",
            "น้ำหนัก(กิโลกรัม) คือ65\n",
            "ส่วนสูง(เมตร) คือ 1.65\n",
            "ดัชนีมวลกาย เท่ากับ 23.875114784205696 กิโลกรัม/เมตร\n"
          ]
        }
      ]
    },
    {
      "cell_type": "markdown",
      "source": [
        "14/01/2568 ออกัส💖💕"
      ],
      "metadata": {
        "id": "piUdc-b-1rP7"
      }
    },
    {
      "cell_type": "code",
      "source": [
        "def medicine_function (weight,dosage):\n",
        "  amount_medicine = weight*dosage\n",
        "  print(\"amount of medicine is\" , '%.3f' %amount_medicine, \"ml\")\n",
        "\n",
        "medicine_function(5.6,0.5)"
      ],
      "metadata": {
        "colab": {
          "base_uri": "https://localhost:8080/"
        },
        "id": "bmMigxlr1qS-",
        "outputId": "183cbe2c-152e-41f0-8a2f-c5cf18c5b270"
      },
      "execution_count": null,
      "outputs": [
        {
          "output_type": "stream",
          "name": "stdout",
          "text": [
            "amount of medicine is 2.800 ml\n"
          ]
        }
      ]
    },
    {
      "cell_type": "markdown",
      "source": [
        "23/01/68"
      ],
      "metadata": {
        "id": "-I_4eDHJPN5x"
      }
    },
    {
      "cell_type": "code",
      "source": [
        "age = int(input(\"กรุณาป้อนอายุ (ปี): \"))\n",
        "max_heart_rate = 220 - age\n",
        "print(\"อัตราการเต้นของหัวใจสูงสุดที่สามารถมีได้ในอายุ\", age, \"ปี\")\n",
        "print(\"อัตราการเต้นของหัวใจสูงสุดที่สามารถมีได้ใน 1 นาที\", max_heart_rate, \"ครั้ง\")\n",
        "\n",
        "อัตราการเต้นของหัวใจที่วัดได้ = int(input(\"กรุณาป้อนอัตราการเต้นของหัวใจที่คุณวัดได้ (ครั้ง): \"))\n",
        "\n",
        "\n",
        "\n",
        "\n",
        "\n",
        "\n",
        "\n",
        "\n"
      ],
      "metadata": {
        "id": "osJUW0EbP7HZ",
        "colab": {
          "base_uri": "https://localhost:8080/"
        },
        "outputId": "8f69fb58-02e8-4acd-c116-721bf52888b7"
      },
      "execution_count": null,
      "outputs": [
        {
          "name": "stdout",
          "output_type": "stream",
          "text": [
            "กรุณาป้อนอายุ (ปี): 50\n",
            "อัตราการเต้นของหัวใจสูงสุดที่สามารถมีได้ในอายุ 50 ปี\n",
            "อัตราการเต้นของหัวใจสูงสุดที่สามารถมีได้ใน 1 นาที 170 ครั้ง\n",
            "กรุณาป้อนอัตราการเต้นของหัวใจที่คุณวัดได้ (ครั้ง): 100\n"
          ]
        }
      ]
    },
    {
      "cell_type": "markdown",
      "source": [
        "23/02/68\n",
        "\n",
        "\n",
        "\n"
      ],
      "metadata": {
        "id": "tThALDs66d97"
      }
    },
    {
      "cell_type": "code",
      "source": [
        "weigh = int(input(\"กรุณาป้อนน้ำหนัก (กิโลกรัม): \"))\n",
        "RER = 70*weigh**0.75\n",
        "\n",
        "print(\"RER\", \"{:.2f}\".format(RER), \"kcal\")\n",
        "print(\"\\nกรุณาเลือกประเภทของสัตว์:\")\n",
        "print(\"1: ลูกสัตว์อายุน้อยกว่า 4 เดือน\")\n",
        "print(\"2: ลูกสัตว์อายุ 4-6 เดือน\")\n",
        "print(\"3: สัตว์โตเต็มวัย (ทำหมันเเล้ว)\")\n",
        "print(\"4: สัตว์โตเต็มวัย (ยังไม่ทำหมัน)\")\n",
        "print(\"5: สัตว์ใช้เเรงงานปานกลาง\")\n",
        "print(\"6: สัตว์ใช้เเรงงานมาก\")\n",
        "print(\"7: สัตว์ต้องการลดน้ำหนัก\")\n",
        "print(\"8: สัตว์ตั้งครรภ์/แม่ลูกอ่อน\")\n",
        "choose_number = int(input(\"กรุณาป้อนหมายเลข: \"))\n",
        "\n",
        "if choose_number == 1:\n",
        "    factor = 2.0\n",
        "elif choose_number == 2:\n",
        "    factor = 1.5\n",
        "elif choose_number == 3:\n",
        "    factor = 1.7\n",
        "elif choose_number == 4:\n",
        "    factor = 1.5\n",
        "elif choose_number == 5:\n",
        "    factor = 2.0\n",
        "elif choose_number == 6:\n",
        "    factor = 5.0\n",
        "elif choose_number == 7:\n",
        "    factor = 1.0\n",
        "elif choose_number == 8:\n",
        "    factor = 3\n",
        "\n",
        "else:\n",
        "    factor = 1.0\n",
        "\n",
        "MER = RER*factor\n",
        "print(\"DER\", \"{:.2f}\".format(DER), \"kcal/day\")\n",
        "print(\"\\nกรุณาเลือกยี่ห่อของผลิตภัณฑ์:\")\n",
        "\n",
        "\n",
        "print(\"1: Smartheart\")\n",
        "print(\"2: Pedigree\")\n",
        "Choose_food_brand= int(input(\"กรุณาป้อนหมายเลข: \"))\n",
        "\n",
        "if choose_number == 1:\n",
        "    factor = 1.7\n",
        "elif choose_number == 2:\n",
        "    factor = 3.2\n",
        "\n",
        "MAX_energy  =MER/Choose_food_brand\n",
        "print(\" MAX_energy\", \"{:.2f}\".format(MAX_energy), \"g/day\")\n",
        "\n",
        "\n",
        "\n",
        "\n",
        "\n",
        "\n",
        "\n",
        "\n"
      ],
      "metadata": {
        "id": "Jlkgqu1d6e6Q",
        "colab": {
          "base_uri": "https://localhost:8080/"
        },
        "outputId": "59352387-a4b2-4057-cc30-d0185f4cd7e2"
      },
      "execution_count": null,
      "outputs": [
        {
          "output_type": "stream",
          "name": "stdout",
          "text": [
            "กรุณาป้อนน้ำหนัก (กิโลกรัม): 15\n",
            "RER 533.54 kcal\n",
            "\n",
            "กรุณาเลือกประเภทของสัตว์:\n",
            "1: ลูกสัตว์อายุน้อยกว่า 4 เดือน\n",
            "2: ลูกสัตว์อายุ 4-6 เดือน\n",
            "3: สัตว์โตเต็มวัย (ทำหมันเเล้ว)\n",
            "4: สัตว์โตเต็มวัย (ยังไม่ทำหมัน)\n",
            "5: สัตว์ใช้เเรงงานปานกลาง\n",
            "6: สัตว์ใช้เเรงงานมาก\n",
            "7: สัตว์ต้องการลดน้ำหนัก\n",
            "8: สัตว์ตั้งครรภ์/แม่ลูกอ่อน\n",
            "กรุณาป้อนหมายเลข: 8\n",
            "DER 235.45 kcal/day\n",
            "\n",
            "กรุณาเลือกยี่ห่อของผลิตภัณฑ์:\n",
            "1: Smartheart\n",
            "2: Pedigree\n",
            "กรุณาป้อนหมายเลข: 2\n",
            " MAX_energy 800.31 g/day\n"
          ]
        }
      ]
    }
  ]
}