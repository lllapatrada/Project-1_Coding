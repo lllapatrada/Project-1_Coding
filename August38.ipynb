{
  "nbformat": 4,
  "nbformat_minor": 0,
  "metadata": {
    "colab": {
      "provenance": [],
      "authorship_tag": "ABX9TyP4tbYRhrHWYFnJFVX0yMfv",
      "include_colab_link": true
    },
    "kernelspec": {
      "name": "python3",
      "display_name": "Python 3"
    },
    "language_info": {
      "name": "python"
    }
  },
  "cells": [
    {
      "cell_type": "markdown",
      "metadata": {
        "id": "view-in-github",
        "colab_type": "text"
      },
      "source": [
        "<a href=\"https://colab.research.google.com/github/lllapatrada/Project-1_Coding/blob/main/August38.ipynb\" target=\"_parent\"><img src=\"https://colab.research.google.com/assets/colab-badge.svg\" alt=\"Open In Colab\"/></a>"
      ]
    },
    {
      "cell_type": "code",
      "execution_count": null,
      "metadata": {
        "colab": {
          "base_uri": "https://localhost:8080/"
        },
        "id": "lofvqbq79RKf",
        "outputId": "b7c33831-9c17-42aa-bc2d-37e894c3a13d"
      },
      "outputs": [
        {
          "output_type": "stream",
          "name": "stdout",
          "text": [
            "สวัสดีคับ กัสเองค๊าบ\n"
          ]
        }
      ],
      "source": [
        "\n",
        "print('สวัสดีคับ กัสเองค๊าบ')"
      ]
    },
    {
      "cell_type": "code",
      "source": [
        "print(\"สวัสดีคับ กัสเองค๊าบ\")"
      ],
      "metadata": {
        "colab": {
          "base_uri": "https://localhost:8080/"
        },
        "id": "MgqQ0sRfAvRm",
        "outputId": "2c55e8e1-80ef-4487-c7b1-bfbed057d9d5"
      },
      "execution_count": null,
      "outputs": [
        {
          "output_type": "stream",
          "name": "stdout",
          "text": [
            "สวัสดีคับ กัสเองค๊าบ\n"
          ]
        }
      ]
    },
    {
      "cell_type": "code",
      "source": [
        "print(5+5)"
      ],
      "metadata": {
        "colab": {
          "base_uri": "https://localhost:8080/"
        },
        "id": "p7Xf5lVxELl-",
        "outputId": "ebc80d4c-c628-42cb-a5f7-5b95f7dcef32"
      },
      "execution_count": null,
      "outputs": [
        {
          "output_type": "stream",
          "name": "stdout",
          "text": [
            "10\n"
          ]
        }
      ]
    },
    {
      "cell_type": "code",
      "source": [
        "a=3.5\n",
        "print(\"เขามีเงินเยอะกว่าฉัน \", a, \" บาท\")"
      ],
      "metadata": {
        "colab": {
          "base_uri": "https://localhost:8080/"
        },
        "id": "6gfOR5VcFlxd",
        "outputId": "e1e522a8-2c83-444e-9ccb-d78106c85434"
      },
      "execution_count": null,
      "outputs": [
        {
          "output_type": "stream",
          "name": "stdout",
          "text": [
            "เขามีเงินเยอะกว่าฉัน  3.5  บาท\n"
          ]
        }
      ]
    },
    {
      "cell_type": "markdown",
      "source": [
        "29/05/67\n",
        "ตัวอักษรที่ใช้ในการเขียนโค้ดจะต้องเป็นภาษาอังกฤษเเละต้องเป็นตัวพิมพ์เล็ก คำสั่ง type คือคำสั่งเเยกประเภท"
      ],
      "metadata": {
        "id": "p4aXh3Rnh60u"
      }
    },
    {
      "cell_type": "code",
      "source": [
        "a = 2\n",
        "b = 1.5\n",
        "c = \"M.4/4\"\n",
        "\n",
        "type(c)\n",
        "\n",
        "print(\"ตัวเเปรที่ฉันคิด คือ ace\")\n"
      ],
      "metadata": {
        "colab": {
          "base_uri": "https://localhost:8080/"
        },
        "id": "0uemt6CHZmyN",
        "outputId": "77662bde-2d50-4c3e-b49d-c2f3f9204d95"
      },
      "execution_count": null,
      "outputs": [
        {
          "output_type": "stream",
          "name": "stdout",
          "text": [
            "ตัวเเปรที่ฉันคิด คือ ace\n"
          ]
        }
      ]
    },
    {
      "cell_type": "code",
      "source": [
        "numeric1 = 5\n",
        "type(numeric1)\n",
        "print(\"ตัวเเปร numeric1 คือ\" , numeric1)"
      ],
      "metadata": {
        "colab": {
          "base_uri": "https://localhost:8080/"
        },
        "id": "ho8OfsQ1kQ-u",
        "outputId": "78e3ec7a-e299-48c9-89bd-c0df8c26c6fa"
      },
      "execution_count": null,
      "outputs": [
        {
          "output_type": "stream",
          "name": "stdout",
          "text": [
            "ตัวเเปร numeric1 คือ 5\n"
          ]
        }
      ]
    },
    {
      "cell_type": "markdown",
      "source": [
        "05/06/2567"
      ],
      "metadata": {
        "id": "QxTOYYDCYLvK"
      }
    },
    {
      "cell_type": "code",
      "source": [
        "string1='Pyton'\n",
        "print(string1[1])"
      ],
      "metadata": {
        "colab": {
          "base_uri": "https://localhost:8080/"
        },
        "id": "KAa4_2PtYNvy",
        "outputId": "66c93d22-a4f4-45e2-aeb8-60cc68494b30"
      },
      "execution_count": null,
      "outputs": [
        {
          "output_type": "stream",
          "name": "stdout",
          "text": [
            "y\n"
          ]
        }
      ]
    },
    {
      "cell_type": "markdown",
      "source": [
        "index คือ ตัวที่จัดรำดับของข้อมูลcomplex คือ จำนวนเชิงซ้อน เช่นสมการ\n",
        "bool คือ จำนวนเท็ทหรือจริง\n",
        "\n",
        "ความสัมพันธ์ของคอมพิวเตอร์กับการเขียนโปรเเกรม\n",
        "input = print\n",
        "process= การรันโค้ด\n",
        "output =การเเสดงผล"
      ],
      "metadata": {
        "id": "0o8CdruEb48y"
      }
    },
    {
      "cell_type": "markdown",
      "source": [
        "26/06/2567"
      ],
      "metadata": {
        "id": "AKTULxLtuYNw"
      }
    },
    {
      "cell_type": "code",
      "source": [
        "name= input(\"โปรดใส่ชื่อของคุณ เพื่อเกรด4\")\n",
        "print(\"ยินดีที่ได้รู้จักนะ\",name)"
      ],
      "metadata": {
        "colab": {
          "base_uri": "https://localhost:8080/"
        },
        "id": "UdXhiJB-v0h7",
        "outputId": "c06f64cf-9668-4626-c6da-3bd67816b320"
      },
      "execution_count": null,
      "outputs": [
        {
          "output_type": "stream",
          "name": "stdout",
          "text": [
            "โปรดใส่ชื่อของคุณ เพื่อเกรด4 ออกัส\n",
            "ยินดีที่ได้รู้จักนะ  ออกัส\n"
          ]
        }
      ]
    },
    {
      "cell_type": "code",
      "source": [
        "side = int(input(\"ความยาวด้าน (ซม.) คือ\"))\n",
        "area = side*side\n",
        "print(\"พื้นที่สี่เหลี่ยม เท่ากับ\", area,\"ตร.ซม.\")"
      ],
      "metadata": {
        "colab": {
          "base_uri": "https://localhost:8080/"
        },
        "id": "XvPeZRx5y4EC",
        "outputId": "c0d71ac9-d381-4478-f0cb-a0110688b386"
      },
      "execution_count": null,
      "outputs": [
        {
          "output_type": "stream",
          "name": "stdout",
          "text": [
            "ความยาวด้าน (ซม.) คือ5\n",
            "พื้นที่สี่เหลี่ยม เท่ากับ 25 ตร.ซม.\n"
          ]
        }
      ]
    },
    {
      "cell_type": "markdown",
      "source": [
        "1/07/2567"
      ],
      "metadata": {
        "id": "A1vpQw4qOT8w"
      }
    },
    {
      "cell_type": "code",
      "source": [
        "side=int(input(\"ความกว้าง(ซม.) คือ\"))\n",
        "long=int(input(\"ความยาว(ซฒ.) คือ \"))\n",
        "area = side*long\n",
        "print(\"พื้นที่สี่เหลี่ยม เท่ากับ\" , area,\"ตร.ซม.\")"
      ],
      "metadata": {
        "colab": {
          "base_uri": "https://localhost:8080/"
        },
        "id": "arXtzgE4OW_-",
        "outputId": "4c7faa28-9aad-4ac9-fe7e-3f30dc55edd5"
      },
      "execution_count": null,
      "outputs": [
        {
          "output_type": "stream",
          "name": "stdout",
          "text": [
            "ความกว้าง(ซม.) คือ2\n",
            "ความยาว(ซฒ.) คือ 4\n",
            "พื้นที่สี่เหลี่ยม เท่ากับ 8 ตร.ซม.\n"
          ]
        }
      ]
    },
    {
      "cell_type": "code",
      "source": [
        "s= int(input(\"ระยะทาง(ม.) คือ \"))\n",
        "t = int(input(\"เวลา (วินาที) คือ\" ))\n",
        "V = s/t\n",
        "print(\"อัตราเร็ว เท่ากับ\" , V , \" เมตร/วินาที\")"
      ],
      "metadata": {
        "colab": {
          "base_uri": "https://localhost:8080/"
        },
        "id": "KgCnQ1sWSCwB",
        "outputId": "5bb13c28-e260-4be2-dac6-5a8e826960bb"
      },
      "execution_count": null,
      "outputs": [
        {
          "output_type": "stream",
          "name": "stdout",
          "text": [
            "ระยะทาง(ม.) คือ 20\n",
            "เวลา (วินาที) คือ10\n",
            "อัตราเร็ว เท่ากับ 2.0  เมตร/วินาที\n"
          ]
        }
      ]
    },
    {
      "cell_type": "code",
      "source": [
        "print(\"นี้คือห้องตรวจสุขภาพการคำนวณ BMI :-) \")\n",
        "print(\"จัดทำโดยเด็กกัส\")\n",
        "name=str(input(\"กรุณาใส่ชื่อของคนน่ารัก\"))\n",
        "print(\"ยินดีต้อนรับสู่ห้องตรวจสุขภาพนะคนน่ารักของโลก💖💕\")\n",
        "weigh=float(input(\"น้ำหนัก(กิโลกรัม) คือ\" ))\n",
        "height= float(input(\"ส่วนสูง(เมตร) คือ \"))\n",
        "BMI = weigh/height**2\n",
        "print(\"ดัชนีมวลกาย เท่ากับ\" ,BMI,\"กิโลกรัม/เมตร\")"
      ],
      "metadata": {
        "colab": {
          "base_uri": "https://localhost:8080/"
        },
        "id": "g_b1Sr4gXfMt",
        "outputId": "a21cd5da-e1b1-467d-9375-17e0e7455ebd"
      },
      "execution_count": null,
      "outputs": [
        {
          "output_type": "stream",
          "name": "stdout",
          "text": [
            "นี้คือห้องตรวจสุขภาพการคำนวณ BMI :-) \n",
            "จัดทำโดยเด็กกัส\n",
            "กรุณาใส่ชื่อของคนน่ารักกัสกาสส\n",
            "ยินดีต้อนรับสู่ห้องตรวจสุขภาพนะคนน่ารักของโลก💖💕\n",
            "น้ำหนัก(กิโลกรัม) คือ65\n",
            "ส่วนสูง(เมตร) คือ 1.65\n",
            "ดัชนีมวลกาย เท่ากับ 23.875114784205696 กิโลกรัม/เมตร\n"
          ]
        }
      ]
    },
    {
      "cell_type": "markdown",
      "source": [],
      "metadata": {
        "id": "xZv-OrFEiL1f"
      }
    }
  ]
}